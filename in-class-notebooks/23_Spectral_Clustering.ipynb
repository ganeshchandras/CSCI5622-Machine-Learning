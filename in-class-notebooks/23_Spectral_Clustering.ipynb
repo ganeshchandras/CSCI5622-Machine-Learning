{
 "cells": [
  {
   "cell_type": "markdown",
   "metadata": {},
   "source": [
    "# Lecture 23: Spectral Clustering \n",
    "***\n",
    "\n",
    "<img src=\"figs/cogs.jpg\" width=1100 height=50>"
   ]
  },
  {
   "cell_type": "markdown",
   "metadata": {},
   "source": [
    "**Reminder**:  Go to the botttom of the notebook and shift-enter the [helper functions](#helpers)\n",
    "***\n",
    "\n",
    "### Problem 1: Spectral Clustering of Two-Feature Data \n",
    "***\n",
    "\n",
    "The function `dataGen` will generate random data of various shapes and structures.  Our goal will be to perform clustering on the data using vanilla K-Means and home-baked Spectral Clustering. Mess with the options of the `dataGen` function and see what kinds of distributions are available to you. "
   ]
  },
  {
   "cell_type": "code",
   "execution_count": null,
   "metadata": {
    "ExecuteTime": {
     "end_time": "2018-04-23T19:52:29.600179Z",
     "start_time": "2018-04-23T19:52:29.469126Z"
    },
    "scrolled": false
   },
   "outputs": [],
   "source": [
    "X = dataGen(N=100, case=\"spirals\")\n",
    "dataPlot(X)"
   ]
  },
  {
   "cell_type": "markdown",
   "metadata": {},
   "source": [
    "**Part A**: Perform KMeans clustering on the data using Sklearn's [KMeans](http://scikit-learn.org/stable/modules/generated/sklearn.cluster.KMeans.html) method. Then use the function `dataPlot` to plot the results.  Are your results what you expected? "
   ]
  },
  {
   "cell_type": "code",
   "execution_count": null,
   "metadata": {
    "collapsed": true
   },
   "outputs": [],
   "source": []
  },
  {
   "cell_type": "markdown",
   "metadata": {},
   "source": [
    "**Part B**: Write a function `GraphLaplacian` to construct the Graph Laplacian Matrix $L$ for a data set. First decide on which similarity measure you intend to use and add any necessary parameters.  "
   ]
  },
  {
   "cell_type": "code",
   "execution_count": null,
   "metadata": {
    "ExecuteTime": {
     "end_time": "2018-04-23T19:53:40.120958Z",
     "start_time": "2018-04-23T19:53:40.118024Z"
    },
    "collapsed": true
   },
   "outputs": [],
   "source": [
    "def GraphLaplacian(X):\n",
    "    # TODO \n",
    "    return"
   ]
  },
  {
   "cell_type": "markdown",
   "metadata": {},
   "source": [
    "**Part C**: Complete the function `SpectralClustering` to return an indicator vector `z` corresponding to the cluster assignments. "
   ]
  },
  {
   "cell_type": "code",
   "execution_count": null,
   "metadata": {
    "collapsed": true
   },
   "outputs": [],
   "source": [
    "def SpectralClustering(X):\n",
    "    # TODO \n",
    "    return "
   ]
  },
  {
   "cell_type": "markdown",
   "metadata": {},
   "source": [
    "<br><br><br><br>\n",
    "<br><br><br><br>\n",
    "<br><br><br><br>\n",
    "<br><br><br><br>\n",
    "<br><br><br><br>\n",
    "\n",
    "<a id='helpers'></a>\n",
    "\n",
    "<br> \n",
    "\n",
    "### Helper Functions\n",
    "***"
   ]
  },
  {
   "cell_type": "code",
   "execution_count": null,
   "metadata": {
    "ExecuteTime": {
     "end_time": "2018-04-23T19:52:25.702927Z",
     "start_time": "2018-04-23T19:52:25.519070Z"
    }
   },
   "outputs": [],
   "source": [
    "import numpy as np\n",
    "import seaborn as sn \n",
    "import matplotlib.pyplot as plt\n",
    "%matplotlib inline\n",
    "\n",
    "sn.set_style(\"white\")\n",
    "\n",
    "def dataGen(N=40, case=\"circles\", seed=1234):\n",
    "    \n",
    "    np.random.seed(seed)\n",
    "    \n",
    "    X = np.zeros(N)\n",
    "    \n",
    "    if case==\"spirals\":\n",
    "        t = np.linspace(.5,3*np.pi,N)\n",
    "        X1 = np.column_stack((t*np.cos(1*t) +.1*np.random.randn(N), t*np.sin(1*t) +.1*np.random.randn(N)))\n",
    "        X2 = np.column_stack((t*np.cos(1*t+np.pi) +.1*np.random.randn(N), t*np.sin(1*t+np.pi) +.1*np.random.randn(N)))\n",
    "        X = np.concatenate((X1, X2))\n",
    "        X += 0.05*np.random.randn(X.shape[0], X.shape[1])\n",
    "        \n",
    "    if case==\"circles\":\n",
    "        t = np.linspace(0,2*np.pi,N)\n",
    "        X1 = np.column_stack((1*np.cos(t), 1*np.sin(t)))\n",
    "        X2 = np.column_stack((2*np.cos(t), 2*np.sin(t)))\n",
    "        X3 = np.column_stack((3*np.cos(t), 3*np.sin(t)))\n",
    "        X = np.concatenate((X1, X2, X3))\n",
    "        X += 0.05*np.random.randn(X.shape[0], X.shape[1])\n",
    "        \n",
    "    rand_inds = np.random.choice(range(X.shape[0]), replace=False, size=X.shape[0])\n",
    "    \n",
    "    return X[rand_inds] \n",
    "    \n",
    "def dataPlot(X, z=None):\n",
    "    \n",
    "    mycolors = [\"steelblue\", \"#a76c6e\", \"#6a9373\"]\n",
    "\n",
    "    fig, ax = plt.subplots(nrows=1, ncols=1, figsize=(7,7))\n",
    "    \n",
    "    if z is None:\n",
    "        colors = \"steelblue\"\n",
    "    else:\n",
    "        colors = [mycolors[zi] for zi in z]\n",
    "    \n",
    "    ax.scatter(X[:,0], X[:,1], color=colors, s=100)\n",
    "    ax.grid(alpha=0.25)\n",
    "    \n",
    "    ax.spines['top'].set_visible(False)\n",
    "    ax.spines['right'].set_visible(False)\n",
    "    ax.spines['bottom'].set_visible(False)\n",
    "    ax.spines['left'].set_visible(False)\n",
    "    plt.xticks([], fontsize=16)\n",
    "    plt.yticks([], fontsize=16)\n",
    "    \n",
    "    \n",
    "    \n",
    "from IPython.core.display import HTML\n",
    "HTML(\"\"\"\n",
    "<style>\n",
    ".MathJax nobr>span.math>span{border-left-width:0 !important};\n",
    "</style>\n",
    "\"\"\")"
   ]
  },
  {
   "cell_type": "code",
   "execution_count": null,
   "metadata": {
    "collapsed": true
   },
   "outputs": [],
   "source": []
  }
 ],
 "metadata": {
  "kernelspec": {
   "display_name": "Python 3",
   "language": "python",
   "name": "python3"
  },
  "language_info": {
   "codemirror_mode": {
    "name": "ipython",
    "version": 3
   },
   "file_extension": ".py",
   "mimetype": "text/x-python",
   "name": "python",
   "nbconvert_exporter": "python",
   "pygments_lexer": "ipython3",
   "version": "3.6.2"
  }
 },
 "nbformat": 4,
 "nbformat_minor": 1
}
